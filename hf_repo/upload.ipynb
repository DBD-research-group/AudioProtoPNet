{
 "cells": [
  {
   "metadata": {},
   "cell_type": "code",
   "outputs": [],
   "execution_count": null,
   "source": [
    "from huggingface_hub import HfApi, create_repo, upload_folder, notebook_login\n",
    "import os"
   ],
   "id": "3371703869d0ca0c"
  },
  {
   "metadata": {},
   "cell_type": "code",
   "outputs": [],
   "execution_count": null,
   "source": [
    "repo_id = \"DBD-research-group/AudioProtoPNet-20-BirdSet-XCL\"\n",
    "local_dir = \"hf_models/upload_20\"\n",
    "assert os.path.exists(local_dir), f\"{local_dir} does not exist\""
   ],
   "id": "4377a4ec627f0621"
  },
  {
   "metadata": {},
   "cell_type": "code",
   "outputs": [],
   "execution_count": null,
   "source": "hf_api = HfApi()",
   "id": "975f25bf9917dc8a"
  },
  {
   "metadata": {},
   "cell_type": "code",
   "outputs": [],
   "execution_count": null,
   "source": "create_repo(repo_id=repo_id, exist_ok=True, private=False)",
   "id": "a6ea50668f95af52"
  },
  {
   "metadata": {},
   "cell_type": "code",
   "outputs": [],
   "execution_count": null,
   "source": [
    "upload_folder(\n",
    "        repo_id=repo_id,\n",
    "        folder_path=local_dir,\n",
    "        commit_message=\"upload\"\n",
    "    )"
   ],
   "id": "1c24ff24c3b0b20a"
  }
 ],
 "metadata": {
  "kernelspec": {
   "display_name": "Python 3",
   "language": "python",
   "name": "python3"
  },
  "language_info": {
   "codemirror_mode": {
    "name": "ipython",
    "version": 2
   },
   "file_extension": ".py",
   "mimetype": "text/x-python",
   "name": "python",
   "nbconvert_exporter": "python",
   "pygments_lexer": "ipython2",
   "version": "2.7.6"
  }
 },
 "nbformat": 4,
 "nbformat_minor": 5
}
